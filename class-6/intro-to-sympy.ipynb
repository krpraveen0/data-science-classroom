{
 "cells": [
  {
   "cell_type": "markdown",
   "id": "9346b1f1",
   "metadata": {},
   "source": [
    "# Sympy  - Python Library to work with mathematics calculation"
   ]
  },
  {
   "cell_type": "markdown",
   "id": "bacb339e",
   "metadata": {},
   "source": [
    "## What is SymPy?\n"
   ]
  },
  {
   "cell_type": "markdown",
   "id": "3138a697",
   "metadata": {},
   "source": [
    "SymPy is a Python library for symbolic mathematics. \n",
    "It aims to become a full-featured computer algebra system while keeping the code as simple as possible in order to be comprehensible and easily extensible. \n",
    "\n",
    "**SymPy provides a wide range of mathematical functions, including:**\n",
    "- Algebraic operations like solving equations, factorization, expansion, and simplification\n",
    "- Calculus operations like differentiation, integration, limits, series expansion, and Taylor series\n",
    "- Linear algebra operations like matrix operations, determinants, eigenvalues, and eigenvectors\n",
    "- Geometry operations like plotting graphic representations, 3D visualization, geometric entities, intersection and projection.\n",
    "- SymPy also supports numeric evaluation, arbitrary precision arithmetic, and an interactive shell for symbolic computations. \n",
    "\n",
    "It is widely used in scientific computing, education, and research, especially in the fields of physics, engineering, and mathematics."
   ]
  },
  {
   "cell_type": "markdown",
   "id": "309f20e4",
   "metadata": {},
   "source": [
    "## How to install SymPy?"
   ]
  },
  {
   "cell_type": "markdown",
   "id": "c6030bc7",
   "metadata": {},
   "source": [
    "To install sympy in Jupyter Notebook, you can follow these steps:\n",
    "\n",
    "1. Open Jupyter Notebook and create a new notebook or use an existing one.\n",
    "2. In a new cell, type the command !pip install sympy and run it by pressing Shift+Enter.\n",
    "3. Wait for the installation process to complete.\n",
    "After the installation is complete, you can import sympy in your notebook using the command import sympy."
   ]
  },
  {
   "cell_type": "code",
   "execution_count": 2,
   "id": "58dc7b1c",
   "metadata": {},
   "outputs": [
    {
     "name": "stdout",
     "output_type": "stream",
     "text": [
      "Requirement already satisfied: sympy in c:\\users\\praveen\\anaconda3\\lib\\site-packages (1.8)\n",
      "Requirement already satisfied: mpmath>=0.19 in c:\\users\\praveen\\anaconda3\\lib\\site-packages (from sympy) (1.2.1)\n"
     ]
    }
   ],
   "source": [
    "!pip install sympy"
   ]
  },
  {
   "cell_type": "markdown",
   "id": "80f39c6b",
   "metadata": {},
   "source": [
    "## Symbols "
   ]
  },
  {
   "cell_type": "markdown",
   "id": "2fe4485a",
   "metadata": {},
   "source": [
    "It is an object that represents a mathematical variable. You can use symbols to construct mathematical expressions and perform symbolic calculations."
   ]
  },
  {
   "cell_type": "code",
   "execution_count": 8,
   "id": "84a59933",
   "metadata": {},
   "outputs": [
    {
     "name": "stdout",
     "output_type": "stream",
     "text": [
      "x**2 + 2*x + 1\n"
     ]
    },
    {
     "data": {
      "image/png": "[encoded data removed]",
      "text/plain": [
       "<Figure size 432x288 with 1 Axes>"
      ]
     },
     "metadata": {
      "needs_background": "light"
     },
     "output_type": "display_data"
    },
    {
     "data": {
      "text/plain": [
       "<sympy.plotting.plot.Plot at 0x200d389bca0>"
      ]
     },
     "execution_count": 8,
     "metadata": {},
     "output_type": "execute_result"
    }
   ],
   "source": [
    "# import sympy\n",
    "from sympy import symbols, plot, simplify\n",
    "\n",
    "# Define a symbol x\n",
    "# x = sympy.symbols('x')\n",
    "x = symbols('x')\n",
    "\n",
    "# Use the symbol in a mathematical expression\n",
    "expr = x**2 + 2*x + 1\n",
    "\n",
    "# Simplify the expression\n",
    "simplified_expr = simplify(expr)\n",
    "\n",
    "# Print the result\n",
    "print(simplified_expr)\n",
    "# plot the graph for above expression\n",
    "plot(expr)\n"
   ]
  },
  {
   "cell_type": "markdown",
   "id": "39900a5f",
   "metadata": {},
   "source": [
    "- In above cell we have import the sympy library and define a symbol x using the sympy.symbols() function. \n",
    "- We then use the symbol in a mathematical expression x**2 + 2*x + 1 and simplify it using the sympy.simplify() function. \n",
    "- The result is x**2 + 2*x + 1, which is the same as the original expression because it is already in its simplest form."
   ]
  },
  {
   "cell_type": "markdown",
   "id": "9db7cc5e",
   "metadata": {},
   "source": [
    "**Symbols can also be defined with additional parameters such as assumptions and names, for example:**"
   ]
  },
  {
   "cell_type": "code",
   "execution_count": 11,
   "id": "92bdb80e",
   "metadata": {},
   "outputs": [
    {
     "name": "stdout",
     "output_type": "stream",
     "text": [
      "The value of y is: sqrt(2)*I\n",
      "the value of z is :  my_symbol\n"
     ]
    }
   ],
   "source": [
    "# Define a symbol y with assumptions of being a positive integer\n",
    "y = sympy.symbols('y', positive=True, integer=True)\n",
    "y = sympy.sqrt(-2)\n",
    "print(\"The value of y is:\",y)\n",
    "# Define a symbol z with a specific name \"my_symbol\"\n",
    "z = sympy.symbols('my_symbol')\n",
    "my_symbol = 5 \n",
    "print(\"the value of z is : \", z)\n"
   ]
  },
  {
   "cell_type": "markdown",
   "id": "59cb72d9",
   "metadata": {},
   "source": [
    "## SymPy provides several classes of objects for representing mathematical expressions and entities. \n",
    "Here are brief explanations of each class, along with some examples:"
   ]
  },
  {
   "cell_type": "markdown",
   "id": "a25b978c",
   "metadata": {},
   "source": [
    "1. Symbol: Represents a mathematical symbol or variable. Symbols can be defined using the symbols function, as shown in the previous answer."
   ]
  },
  {
   "cell_type": "code",
   "execution_count": 12,
   "id": "4b787f48",
   "metadata": {},
   "outputs": [],
   "source": [
    "#Example:\n",
    "from sympy import symbols\n",
    "\n",
    "x, y, z = symbols('x y z')\n"
   ]
  },
  {
   "cell_type": "markdown",
   "id": "5a82ce1b",
   "metadata": {},
   "source": [
    "2. Integer and Rational: Represent integer and rational numbers, respectively."
   ]
  },
  {
   "cell_type": "code",
   "execution_count": 16,
   "id": "3558643c",
   "metadata": {},
   "outputs": [
    {
     "name": "stdout",
     "output_type": "stream",
     "text": [
      "The vaue of a is 7 and b is 3/4\n"
     ]
    }
   ],
   "source": [
    "#Example:\n",
    "from sympy import Integer, Rational\n",
    "\n",
    "a = Integer(7)\n",
    "b = Rational(3, 4)\n",
    "print(f'The vaue of a is {a} and b is {b}')\n"
   ]
  },
  {
   "cell_type": "markdown",
   "id": "5fd5d46d",
   "metadata": {},
   "source": [
    "3. Float: Represents a floating-point number with arbitrary precision."
   ]
  },
  {
   "cell_type": "code",
   "execution_count": 17,
   "id": "f71e1004",
   "metadata": {},
   "outputs": [
    {
     "name": "stdout",
     "output_type": "stream",
     "text": [
      "The value of c is 3.141590000\n"
     ]
    }
   ],
   "source": [
    "from sympy import Float\n",
    "\n",
    "c = Float(3.14159, 10)\n",
    "print(f'The value of c is {c}')\n"
   ]
  },
  {
   "cell_type": "markdown",
   "id": "399d94e4",
   "metadata": {},
   "source": [
    "4. Function: Represents a mathematical function. Functions can be defined using various functions provided by SymPy, such as sin, cos, exp, etc."
   ]
  },
  {
   "cell_type": "code",
   "execution_count": 18,
   "id": "d838ad18",
   "metadata": {},
   "outputs": [
    {
     "name": "stdout",
     "output_type": "stream",
     "text": [
      "The value of f is sin(x) + cos(x)\n",
      "The value of g is exp(x**2)\n"
     ]
    }
   ],
   "source": [
    "#Example\n",
    "from sympy import sin, cos, exp\n",
    "\n",
    "f = sin(x) + cos(x)\n",
    "g = exp(x**2)\n",
    "print('The value of f is',f)\n",
    "print('The value of g is',g)\n"
   ]
  },
  {
   "cell_type": "markdown",
   "id": "95e768b8",
   "metadata": {},
   "source": [
    "5. Add, Mul, Pow: Represent addition, multiplication, and exponentiation, respectively."
   ]
  },
  {
   "cell_type": "code",
   "execution_count": 21,
   "id": "908afaf4",
   "metadata": {},
   "outputs": [
    {
     "name": "stdout",
     "output_type": "stream",
     "text": [
      "The value of h is x + y + z\n",
      "The value of i is x*y*z\n",
      "The value of j is x**2 + y**2\n"
     ]
    }
   ],
   "source": [
    "#Example\n",
    "from sympy import Add, Mul, Pow\n",
    "\n",
    "h = Add(x, y, z)\n",
    "i = Mul(x, y, z)\n",
    "j = Pow(x, 2) + Pow(y, 2)\n",
    "print(f\"The value of h is {h}\")\n",
    "print(f\"The value of i is {i}\")\n",
    "print(f\"The value of j is {j}\")\n"
   ]
  },
  {
   "cell_type": "markdown",
   "id": "3a9e319d",
   "metadata": {},
   "source": [
    "6. Equality, GreaterThan, LessThan: Represent logical relations between expressions."
   ]
  },
  {
   "cell_type": "code",
   "execution_count": 24,
   "id": "b619c178",
   "metadata": {},
   "outputs": [
    {
     "name": "stdout",
     "output_type": "stream",
     "text": [
      "The value of k is Eq(x, y)\n",
      "The value of l is x >= y\n",
      "The value of m is x <= y\n"
     ]
    }
   ],
   "source": [
    "#Example:\n",
    "from sympy import Equality, GreaterThan, LessThan\n",
    "\n",
    "k = Equality(x, y) # x == y\n",
    "l = GreaterThan(x, y)\n",
    "m = LessThan(x, y)\n",
    "print(f\"The value of k is {k}\")\n",
    "print(f\"The value of l is {l}\")\n",
    "print(f\"The value of m is {m}\")"
   ]
  },
  {
   "cell_type": "markdown",
   "id": "a05e2652",
   "metadata": {},
   "source": [
    "7. Matrix: Represents a matrix of values."
   ]
  },
  {
   "cell_type": "code",
   "execution_count": 28,
   "id": "eebb9f3d",
   "metadata": {},
   "outputs": [
    {
     "name": "stdout",
     "output_type": "stream",
     "text": [
      "Matrix([[1, 2], [3, 4]])\n"
     ]
    }
   ],
   "source": [
    "from sympy import Matrix, simplify\n",
    "\n",
    "n = Matrix([[1, 2], [3, 4]])\n",
    "result = simplify(n)\n",
    "print(result)\n"
   ]
  },
  {
   "cell_type": "markdown",
   "id": "faadf0f8",
   "metadata": {},
   "source": [
    "8. Derivative, Integral: Represent derivatives and integrals, respectively."
   ]
  },
  {
   "cell_type": "code",
   "execution_count": 29,
   "id": "7f768661",
   "metadata": {},
   "outputs": [
    {
     "name": "stdout",
     "output_type": "stream",
     "text": [
      "The value of o is Derivative(x**2, x)\n",
      "The value of p is Integral(x**2, x)\n"
     ]
    }
   ],
   "source": [
    "#Example\n",
    "from sympy import Derivative, Integral\n",
    "\n",
    "o = Derivative(x**2, x)\n",
    "p = Integral(x**2, x)\n",
    "print(f\"The value of o is {o}\")\n",
    "print(f\"The value of p is {p}\")\n"
   ]
  },
  {
   "cell_type": "markdown",
   "id": "32968b2a",
   "metadata": {},
   "source": [
    "For more detailed information about sympy visit [here](https://docs.sympy.org/latest/index.html)"
   ]
  },
  {
   "cell_type": "markdown",
   "id": "9731fbbe",
   "metadata": {},
   "source": [
    "integrate(f, x) returns the indefinite integral \n",
    "\n",
    "integrate(f, (x, a, b)) returns the definite integral \n"
   ]
  },
  {
   "cell_type": "code",
   "execution_count": null,
   "id": "f221d09b",
   "metadata": {},
   "outputs": [],
   "source": [
    "# Write a ploynomial equation of degree 5 and plot it's graph. "
   ]
  }
 ],
 "metadata": {
  "kernelspec": {
   "display_name": "Python 3",
   "language": "python",
   "name": "python3"
  },
  "language_info": {
   "codemirror_mode": {
    "name": "ipython",
    "version": 3
   },
   "file_extension": ".py",
   "mimetype": "text/x-python",
   "name": "python",
   "nbconvert_exporter": "python",
   "pygments_lexer": "ipython3",
   "version": "3.8.8"
  }
 },
 "nbformat": 4,
 "nbformat_minor": 5
}
